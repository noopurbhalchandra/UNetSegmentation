{
 "cells": [
  {
   "cell_type": "code",
   "execution_count": 2,
   "metadata": {
    "_cell_guid": "b1076dfc-b9ad-4769-8c92-a6c4dae69d19",
    "_uuid": "8f2839f25d086af736a60e9eeb907d3b93b6e0e5"
   },
   "outputs": [],
   "source": [
    "# This Python 3 environment comes with many helpful analytics libraries installed\n",
    "# It is defined by the kaggle/python docker image: https://github.com/kaggle/docker-python\n",
    "# For example, here's several helpful packages to load in \n",
    "\n",
    "import numpy as np # linear algebra\n",
    "import pandas as pd # data processing, CSV file I/O (e.g. pd.read_csv)\n",
    "import tensorflow as tf\n",
    "import keras\n",
    "import cv2\n",
    "import matplotlib.pyplot as plt\n",
    "import random\n",
    "from sklearn.model_selection import train_test_split\n",
    "import os\n",
    "#print(os.listdir('../input/'))\n",
    "#for dirname, _, filenames in os.walk('/kaggle/input'):\n",
    " #   for filename in filenames:\n",
    "  #      print(os.path.join(dirname, filename))\n",
    "\n",
    "# Any results you write to the current directory are saved as output."
   ]
  },
  {
   "cell_type": "code",
   "execution_count": 3,
   "metadata": {},
   "outputs": [],
   "source": [
    "batch_size = 8\n",
    "image_size = 128\n",
    "epochs = 5"
   ]
  },
  {
   "cell_type": "code",
   "execution_count": 4,
   "metadata": {},
   "outputs": [],
   "source": [
    "class Datagen(keras.utils.Sequence):\n",
    "    def __init__(self, ids, path, batch_size=batch_size, image_size=image_size):\n",
    "        self.ids = ids\n",
    "        self.path = path\n",
    "        self.batch_size = batch_size\n",
    "        self.image_size = image_size\n",
    "    \n",
    "    def Load_img(self, each_id):\n",
    "        each_img_path = os.path.join(self.path, each_id, 'images', each_id) + '.png'\n",
    "        mask_path = os.path.join(self.path, each_id, 'masks/')\n",
    "        all_masks = os.listdir(mask_path)\n",
    "        \n",
    "        image = cv2.imread(each_img_path, 1)\n",
    "        image = cv2.resize(image, (self.image_size, self.image_size))\n",
    "        \n",
    "        # creating an empty mask which will hold all the masks combined\n",
    "        mask = np.zeros((self.image_size,self.image_size,1)) #its a grayscale mask\n",
    "        \n",
    "        for each_mask in all_masks:\n",
    "            each_mask_path = os.path.join(mask_path, each_mask)\n",
    "            # reading each mask and resizing it\n",
    "            each_mask_image = cv2.imread(each_mask_path, -1)\n",
    "            each_mask_image = cv2.resize(each_mask_image, (self.image_size,self.image_size))\n",
    "            each_mask_image = np.expand_dims(each_mask_image, axis=-1)\n",
    "            # combining each mask of every image into 1\n",
    "            mask = np.maximum(mask, each_mask_image)\n",
    "            \n",
    "        # normalizing each image and its mask\n",
    "        image, mask = image/255.0, mask/255.0\n",
    "        return image, mask\n",
    "        \n",
    "    \n",
    "    def __getitem__(self, batch_idx):\n",
    "        if ((batch_idx+1)*self.batch_size) > len(self.ids):\n",
    "            self.batch_size = (len(self.ids)-(batch_idx*self.batch_size))\n",
    "        batch_imgs = []\n",
    "        batch_masks = []\n",
    "        batch_ids = self.ids[(batch_idx*self.batch_size):((batch_idx+1)*self.batch_size)]\n",
    "        for each_id in batch_ids:\n",
    "            each_batch_img, each_batch_mask = self.Load_img(each_id)\n",
    "            batch_imgs.append(each_batch_img)\n",
    "            batch_masks.append(each_batch_mask)\n",
    "        batch_imgs = np.array(batch_imgs)\n",
    "        batch_masks = np.array(batch_masks)\n",
    "        return batch_imgs, batch_masks\n",
    "    \n",
    "    \n",
    "    def __len__(self):\n",
    "        return int(np.ceil(len(self.ids) / float(self.batch_size)))\n",
    "    "
   ]
  },
  {
   "cell_type": "code",
   "execution_count": 24,
   "metadata": {
    "_cell_guid": "79c7e3d0-c299-4dcb-8224-4455121ee9b0",
    "_uuid": "d629ff2d2480ee46fbb7e2d37f6b5fab8052498a"
   },
   "outputs": [],
   "source": [
    "train_path = '/Users/HOMEDRIVE/train/stage1_train/'\n",
    "test_path = '/Users/HOMEDRIVE/test/stage1_test/'\n",
    "total_ids = os.listdir(train_path)\n",
    "total_ids.remove('.DS_Store')\n",
    "# keeping 15 images for validation \n",
    "val_data_size = 15\n",
    "valid_ids = total_ids[:val_data_size]\n",
    "train_ids = total_ids[val_data_size:]\n",
    "test_ids = os.listdir(test_path)\n",
    "image_size = 128\n",
    "batch_size = 8\n",
    "epochs = 5"
   ]
  },
  {
   "cell_type": "code",
   "execution_count": 27,
   "metadata": {},
   "outputs": [],
   "source": [
    "## defining contraction, upsampling and bridge blocks of Unet\n",
    "\n",
    "def contractn_blk(x, no_filters, filter_size=(3,3), padding='same', strides=1):\n",
    "    conv1 = keras.layers.Conv2D(no_filters, filter_size, padding=padding, strides=strides, activation='relu')(x)\n",
    "    conv2 = keras.layers.Conv2D(no_filters, filter_size, padding=padding, strides=strides, activation='relu')(conv1)\n",
    "    pool1 = keras.layers.MaxPool2D((2,2), (2,2))(conv2)\n",
    "    return conv2, pool1\n",
    "\n",
    "def bridge_blk(x, no_filters, filter_size=(3,3), padding='same', strides=1):\n",
    "    conv1 = keras.layers.Conv2D(no_filters, filter_size, padding=padding, strides=strides, activation='relu')(x)\n",
    "    conv2 = keras.layers.Conv2D(no_filters, filter_size, padding=padding, strides=strides, activation='relu')(conv1)\n",
    "    return conv2\n",
    "\n",
    "def Upsample_blk(x, skip, no_filters, filter_size=(3,3), padding='same', strides=1):\n",
    "    UpSamp = keras.layers.UpSampling2D((2,2))(x)\n",
    "    skip_stg = keras.layers.Concatenate()([UpSamp, skip])\n",
    "    conv1 = keras.layers.Conv2D(no_filters, filter_size, padding=padding, strides=strides, activation='relu')(skip_stg)\n",
    "    conv2 = keras.layers.Conv2D(no_filters, filter_size, padding=padding, strides=strides, activation='relu')(conv1)\n",
    "    return conv2\n",
    "    "
   ]
  },
  {
   "cell_type": "code",
   "execution_count": 28,
   "metadata": {},
   "outputs": [],
   "source": [
    "### defining Unet\n",
    "def Unet():\n",
    "    inputs = keras.layers.Input((image_size, image_size, 3))\n",
    "    \n",
    "    x = inputs\n",
    "    conv_output = {}\n",
    "    pool_output = {}\n",
    "    no_filters = 16\n",
    "    no_layers_contractn = 4\n",
    "    for i in range(no_layers_contractn):\n",
    "        conv, pool = contractn_blk(x, ((2**i)*no_filters))\n",
    "        conv_output['c'+str(i+1)] = conv\n",
    "        pool_output['p'+str(i+1)] = pool\n",
    "        x = pool\n",
    "    \n",
    "    conv_output['c'+str(no_layers_contractn+1)] = bridge_blk(pool_output['p'+str(no_layers_contractn)], (2**(no_layers_contractn))*no_filters)\n",
    "    \n",
    "    x = conv_output['c'+str(no_layers_contractn+1)]\n",
    "    for i in range(no_layers_contractn-1, -1, -1):\n",
    "        skip = conv_output['c'+str(i+1)]\n",
    "        conv = Upsample_blk(x, skip, (2**i)*no_filters)\n",
    "        x = conv\n",
    "    \n",
    "    outputs = keras.layers.Conv2D(1, (1,1), padding='same', activation='sigmoid')(x)\n",
    "    model = keras.models.Model(inputs, outputs)\n",
    "    return model"
   ]
  },
  {
   "cell_type": "code",
   "execution_count": 29,
   "metadata": {},
   "outputs": [],
   "source": [
    "#model = Unet(no_filters_first_layer, no_layers_contractn)\n",
    "model = Unet()\n",
    "model.compile(optimizer='adam', loss='binary_crossentropy', metrics=['acc'])"
   ]
  },
  {
   "cell_type": "code",
   "execution_count": 30,
   "metadata": {},
   "outputs": [],
   "source": [
    "train_gen = Datagen(train_ids, train_path, batch_size, image_size)\n",
    "train_steps = (len(train_ids)//batch_size)\n",
    "valid_gen = Datagen(valid_ids, train_path, batch_size, image_size)\n",
    "valid_steps = (len(valid_ids)//batch_size)"
   ]
  },
  {
   "cell_type": "code",
   "execution_count": 31,
   "metadata": {},
   "outputs": [
    {
     "name": "stdout",
     "output_type": "stream",
     "text": [
      "Epoch 1/5\n",
      "81/81 [==============================] - 130s 2s/step - loss: 0.4088 - acc: 0.8428 - val_loss: 0.3692 - val_acc: 0.8192\n",
      "Epoch 2/5\n",
      "81/81 [==============================] - 143s 2s/step - loss: 0.2320 - acc: 0.8629 - val_loss: 0.1644 - val_acc: 0.9183\n",
      "Epoch 3/5\n",
      "81/81 [==============================] - 178s 2s/step - loss: 0.1559 - acc: 0.9241 - val_loss: 0.1748 - val_acc: 0.9054\n",
      "Epoch 4/5\n",
      "81/81 [==============================] - 157s 2s/step - loss: 0.1194 - acc: 0.9384 - val_loss: 0.1015 - val_acc: 0.9447\n",
      "Epoch 5/5\n",
      "81/81 [==============================] - 165s 2s/step - loss: 0.1036 - acc: 0.9435 - val_loss: 0.1467 - val_acc: 0.9211\n"
     ]
    },
    {
     "data": {
      "text/plain": [
       "<keras.callbacks.History at 0x1a1f093908>"
      ]
     },
     "execution_count": 31,
     "metadata": {},
     "output_type": "execute_result"
    }
   ],
   "source": [
    "model.fit_generator(train_gen, validation_data=valid_gen, steps_per_epoch=train_steps, validation_steps=valid_steps, epochs=epochs)"
   ]
  },
  {
   "cell_type": "code",
   "execution_count": 32,
   "metadata": {},
   "outputs": [],
   "source": [
    "#test_gen = Datagen(test_ids, test_path, batch_size, image_size)\n",
    "test_steps = len(test_ids)//batch_size"
   ]
  },
  {
   "cell_type": "code",
   "execution_count": 33,
   "metadata": {},
   "outputs": [],
   "source": [
    "test_imgs = []\n",
    "for i in test_ids:\n",
    "    each_test_img_path = os.path.join(test_path, i, 'images', i) + '.png'\n",
    "    image = cv2.imread(each_test_img_path, 1)\n",
    "    image = cv2.resize(image, (image_size, image_size))\n",
    "    image = image/255.0\n",
    "    test_imgs.append(image)\n",
    "test_imgs = np.array(test_imgs)"
   ]
  },
  {
   "cell_type": "code",
   "execution_count": 34,
   "metadata": {},
   "outputs": [
    {
     "name": "stdout",
     "output_type": "stream",
     "text": [
      "(65, 128, 128, 3)\n"
     ]
    }
   ],
   "source": [
    "print(test_imgs.shape)"
   ]
  },
  {
   "cell_type": "code",
   "execution_count": 35,
   "metadata": {},
   "outputs": [],
   "source": [
    "result = model.predict(test_imgs)\n",
    "## converting mask to binary image\n",
    "result = result > 0.5\n",
    "result = result * 255.0"
   ]
  },
  {
   "cell_type": "code",
   "execution_count": 36,
   "metadata": {},
   "outputs": [
    {
     "data": {
      "text/plain": [
       "<matplotlib.image.AxesImage at 0x1a220762b0>"
      ]
     },
     "execution_count": 36,
     "metadata": {},
     "output_type": "execute_result"
    },
    {
     "data": {
      "image/png": "[encoded data removed]",
      "text/plain": [
       "<Figure size 432x288 with 2 Axes>"
      ]
     },
     "metadata": {},
     "output_type": "display_data"
    }
   ],
   "source": [
    "fig = plt.figure()\n",
    "fig.subplots_adjust(hspace=0.4, wspace=0.4)\n",
    "ax = fig.add_subplot(1, 2, 1)\n",
    "ax.imshow(np.reshape(result[0]*255, (image_size, image_size)), cmap='gray')\n",
    "ax = fig.add_subplot(1, 2, 2)\n",
    "ax.imshow(test_imgs[0])"
   ]
  },
  {
   "cell_type": "code",
   "execution_count": null,
   "metadata": {},
   "outputs": [],
   "source": []
  }
 ],
 "metadata": {
  "kernelspec": {
   "display_name": "Python 3",
   "language": "python",
   "name": "python3"
  },
  "language_info": {
   "codemirror_mode": {
    "name": "ipython",
    "version": 3
   },
   "file_extension": ".py",
   "mimetype": "text/x-python",
   "name": "python",
   "nbconvert_exporter": "python",
   "pygments_lexer": "ipython3",
   "version": "3.6.5"
  }
 },
 "nbformat": 4,
 "nbformat_minor": 1
}
